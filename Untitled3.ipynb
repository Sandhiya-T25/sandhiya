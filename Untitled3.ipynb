{
  "nbformat": 4,
  "nbformat_minor": 0,
  "metadata": {
    "colab": {
      "provenance": []
    },
    "kernelspec": {
      "name": "python3",
      "display_name": "Python 3"
    },
    "language_info": {
      "name": "python"
    }
  },
  "cells": [
    {
      "cell_type": "code",
      "source": [
        "<!DOCTYPE html>\n",
        "<html lang=\"en\">\n",
        "<head>\n",
        "  <meta charset=\"UTF-8\" />\n",
        "  <meta name=\"viewport\" content=\"width=device-width, initial-scale=1\" />\n",
        "  <title>Image Gallery</title>\n",
        "  <style>\n",
        "    body {\n",
        "      font-family: Arial, sans-serif;\n",
        "      margin: 0;\n",
        "      padding: 20px;\n",
        "      background-color: #f0f0f0;\n",
        "    }\n",
        "\n",
        "    h2 {\n",
        "      text-align: center;\n",
        "      margin-bottom: 20px;\n",
        "    }\n",
        "\n",
        "    .gallery {\n",
        "      display: flex;\n",
        "      flex-wrap: wrap;\n",
        "      gap: 15px;\n",
        "      justify-content: center;\n",
        "    }\n",
        "\n",
        "    .gallery img {\n",
        "      width: 120px;\n",
        "      height: 120px;\n",
        "      object-fit: cover;\n",
        "      border-radius: 8px;\n",
        "      cursor: pointer;\n",
        "      transition: transform 0.2s ease;\n",
        "    }\n",
        "\n",
        "    .gallery img:hover {\n",
        "      transform: scale(1.05);\n",
        "    }\n",
        "\n",
        "    .fullscreen-overlay {\n",
        "      display: none;\n",
        "      position: fixed;\n",
        "      top: 0;\n",
        "      left: 0;\n",
        "      width: 100%;\n",
        "      height: 100%;\n",
        "      background-color: rgba(0, 0, 0, 0.9);\n",
        "      justify-content: center;\n",
        "      align-items: center;\n",
        "      z-index: 9999;\n",
        "    }\n",
        "\n",
        "    .fullscreen-overlay img {\n",
        "      max-width: 90%;\n",
        "      max-height: 90%;\n",
        "      border-radius: 12px;\n",
        "    }\n",
        "\n",
        "    .close-btn {\n",
        "      position: absolute;\n",
        "      top: 20px;\n",
        "      right: 30px;\n",
        "      font-size: 35px;\n",
        "      color: white;\n",
        "      cursor: pointer;\n",
        "    }\n",
        "  </style>\n",
        "</head>\n",
        "<body>\n",
        "\n",
        "  <h2>Click on any image to view in full screen</h2>\n",
        "\n",
        "  <div class=\"gallery\">\n",
        "    <img src=\"https://images.unsplash.com/photo-1503023345310-bd7c1de61c7d\" onclick=\"openFullScreen(this.src)\">\n",
        "    <img src=\"https://images.unsplash.com/photo-1495567720989-cebdbdd97913\" onclick=\"openFullScreen(this.src)\">\n",
        "    <img src=\"https://images.unsplash.com/photo-1519125323398-675f0ddb6308\" onclick=\"openFullScreen(this.src)\">\n",
        "    <img src=\"https://images.unsplash.com/photo-1558981403-c5f9891c87fa\" onclick=\"openFullScreen(this.src)\">\n",
        "    <img src=\"https://images.unsplash.com/photo-1533055640609-24b498cdfd22\" onclick=\"openFullScreen(this.src)\">\n",
        "    <img src=\"https://images.unsplash.com/photo-1542273917363-3b1817f69a2d\" onclick=\"openFullScreen(this.src)\">\n",
        "    <img src=\"https://images.unsplash.com/photo-1508610048659-a06b669e7a11\" onclick=\"openFullScreen(this.src)\">\n",
        "    <img src=\"https://images.unsplash.com/photo-1540202404-c1d7be6d3cae\" onclick=\"openFullScreen(this.src)\">\n",
        "    <img src=\"https://images.unsplash.com/photo-1610878180933-9ff0a1a0a8f0\" onclick=\"openFullScreen(this.src)\">\n",
        "    <img src=\"https://images.unsplash.com/photo-1612831455542-11f7ce17f79f\" onclick=\"openFullScreen(this.src)\">\n",
        "    <img src=\"https://images.unsplash.com/photo-1603987461475-a2c94299a27d\" onclick=\"openFullScreen(this.src)\">\n",
        "    <img src=\"https://images.unsplash.com/photo-1589987607627-f56427bdbc9b\" onclick=\"openFullScreen(this.src)\">\n",
        "    <img src=\"https://images.unsplash.com/photo-1611077493237-9c905f30d0e0\" onclick=\"openFullScreen(this.src)\">\n",
        "    <img src=\"https://images.unsplash.com/photo-1519681393784-d120267933ba\" onclick=\"openFullScreen(this.src)\">\n",
        "    <img src=\"https://images.unsplash.com/photo-1504198266285-165a04fbb1b8\" onclick=\"openFullScreen(this.src)\">\n",
        "    <img src=\"https://images.unsplash.com/photo-1593642634443-44adaa06623a\" onclick=\"openFullScreen(this.src)\">\n",
        "    <img src=\"https://images.unsplash.com/photo-1498050108023-c5249f4df085\" onclick=\"openFullScreen(this.src)\">\n",
        "    <img src=\"https://images.unsplash.com/photo-1590608897129-79da88b7a37b\" onclick=\"openFullScreen(this.src)\">\n",
        "    <img src=\"https://images.unsplash.com/photo-1603570419985-7ec0067cc31c\" onclick=\"openFullScreen(this.src)\">\n",
        "    <img src=\"https://images.unsplash.com/photo-1542751110-97427bbecf20\" onclick=\"openFullScreen(this.src)\">\n",
        "  </div>\n",
        "\n",
        "  <div class=\"fullscreen-overlay\" id=\"fullscreenOverlay\" onclick=\"closeFullScreen()\">\n",
        "    <span class=\"close-btn\" onclick=\"closeFullScreen()\">&times;</span>\n",
        "    <img id=\"fullscreenImage\" src=\"\" alt=\"Full Screen\" />\n",
        "  </div>\n",
        "\n",
        "  <script>\n",
        "    function openFullScreen(src) {\n",
        "      document.getElementById('fullscreenOverlay').style.display = 'flex';\n",
        "      document.getElementById('fullscreenImage').src = src;\n",
        "    }\n",
        "\n",
        "    function closeFullScreen() {\n",
        "      document.getElementById('fullscreenOverlay').style.display = 'none';\n",
        "    }\n",
        "  </script>\n",
        "\n",
        "</body>\n",
        "</html>\n",
        "\n"
      ],
      "metadata": {
        "colab": {
          "base_uri": "https://localhost:8080/",
          "height": 106
        },
        "id": "tYQy7AVLj-aN",
        "outputId": "b810a4ab-d273-4438-975c-09fb8deab82f"
      },
      "execution_count": 1,
      "outputs": [
        {
          "output_type": "error",
          "ename": "SyntaxError",
          "evalue": "invalid decimal literal (<ipython-input-1-d8e85df7ef83>, line 11)",
          "traceback": [
            "\u001b[0;36m  File \u001b[0;32m\"<ipython-input-1-d8e85df7ef83>\"\u001b[0;36m, line \u001b[0;32m11\u001b[0m\n\u001b[0;31m    padding: 20px;\u001b[0m\n\u001b[0m              ^\u001b[0m\n\u001b[0;31mSyntaxError\u001b[0m\u001b[0;31m:\u001b[0m invalid decimal literal\n"
          ]
        }
      ]
    },
    {
      "cell_type": "code",
      "source": [
        "from IPython.core.display import display, HTML\n",
        "import os\n",
        "\n",
        "html_code = \"\"\"\n",
        "<!DOCTYPE html>\n",
        "<html lang=\"en\">\n",
        "<head>\n",
        "  <meta charset=\"UTF-8\" />\n",
        "  <meta name=\"viewport\" content=\"width=device-width, initial-scale=1\" />\n",
        "  <title>Image Gallery</title>\n",
        "  <style>\n",
        "    body {\n",
        "      font-family: Arial, sans-serif;\n",
        "      margin: 0;\n",
        "      padding: 20px;\n",
        "      background-color: #f0f0f0;\n",
        "    }\n",
        "\n",
        "    h2 {\n",
        "      text-align: center;\n",
        "      margin-bottom: 20px;\n",
        "    }\n",
        "\n",
        "    .gallery {\n",
        "      display: flex;\n",
        "      flex-wrap: wrap;\n",
        "      gap: 15px;\n",
        "      justify-content: center;\n",
        "    }\n",
        "\n",
        "    .gallery img {\n",
        "      width: 120px;\n",
        "      height: 120px;\n",
        "      object-fit: cover;\n",
        "      border-radius: 8px;\n",
        "      cursor: pointer;\n",
        "      transition: transform 0.2s ease;\n",
        "    }\n",
        "\n",
        "    .gallery img:hover {\n",
        "      transform: scale(1.05);\n",
        "    }\n",
        "\n",
        "    .fullscreen-overlay {\n",
        "      display: none;\n",
        "      position: fixed;\n",
        "      top: 0;\n",
        "      left: 0;\n",
        "      width: 100%;\n",
        "      height: 100%;\n",
        "      background-color: rgba(0, 0, 0, 0.9);\n",
        "      justify-content: center;\n",
        "      align-items: center;\n",
        "      z-index: 9999;\n",
        "    }\n",
        "\n",
        "    .fullscreen-overlay img {\n",
        "      max-width: 90%;\n",
        "      max-height: 90%;\n",
        "      border-radius: 12px;\n",
        "    }\n",
        "\n",
        "    .close-btn {\n",
        "      position: absolute;\n",
        "      top: 20px;\n",
        "      right: 30px;\n",
        "      font-size: 35px;\n",
        "      color: white;\n",
        "      cursor: pointer;\n",
        "    }\n",
        "  </style>\n",
        "</head>\n",
        "<body>\n",
        "\n",
        "  <h2>Click on any image to view in full screen</h2>\n",
        "\n",
        "  <div class=\"gallery\">\n",
        "    <!-- Only a few images for brevity; you can add more -->\n",
        "    <img src=\"https://images.unsplash.com/photo-1503023345310-bd7c1de61c7d\" onclick=\"openFullScreen(this.src)\">\n",
        "    <img src=\"https://images.unsplash.com/photo-1495567720989-cebdbdd97913\" onclick=\"openFullScreen(this.src)\">\n",
        "    <img src=\"https://images.unsplash.com/photo-1519125323398-675f0ddb6308\" onclick=\"openFullScreen(this.src)\">\n",
        "  </div>\n",
        "\n",
        "  <div class=\"fullscreen-overlay\" id=\"fullscreenOverlay\" onclick=\"closeFullScreen()\">\n",
        "    <span class=\"close-btn\" onclick=\"closeFullScreen()\">&times;</span>\n",
        "    <img id=\"fullscreenImage\" src=\"\" alt=\"Full Screen\" />\n",
        "  </div>\n",
        "\n",
        "  <script>\n",
        "    function openFullScreen(src) {\n",
        "      document.getElementById('fullscreenOverlay').style.display = 'flex';\n",
        "      document.getElementById('fullscreenImage').src = src;\n",
        "    }\n",
        "\n",
        "    function closeFullScreen() {\n",
        "      document.getElementById('fullscreenOverlay').style.display = 'none';\n",
        "    }\n",
        "  </script>\n",
        "\n",
        "</body>\n",
        "</html>\n",
        "\"\"\"\n",
        "\n",
        "# Save to HTML file\n",
        "with open(\"gallery.html\", \"w\") as f:\n",
        "    f.write(html_code)\n",
        "\n",
        "# Display using IFrame\n",
        "display(HTML('<iframe src=\"gallery.html\" width=\"100%\" height=\"600px\"></iframe>'))\n"
      ],
      "metadata": {
        "colab": {
          "base_uri": "https://localhost:8080/",
          "height": 680
        },
        "id": "eJF7HtCnlM2r",
        "outputId": "208e3fc2-569f-443d-8508-04e6d25612af"
      },
      "execution_count": 2,
      "outputs": [
        {
          "output_type": "stream",
          "name": "stderr",
          "text": [
            "/usr/local/lib/python3.11/dist-packages/IPython/core/display.py:724: UserWarning: Consider using IPython.display.IFrame instead\n",
            "  warnings.warn(\"Consider using IPython.display.IFrame instead\")\n"
          ]
        },
        {
          "output_type": "display_data",
          "data": {
            "text/plain": [
              "<IPython.core.display.HTML object>"
            ],
            "text/html": [
              "<iframe src=\"gallery.html\" width=\"100%\" height=\"600px\"></iframe>"
            ]
          },
          "metadata": {}
        }
      ]
    },
    {
      "source": [
        "from IPython.display import Image, display\n",
        "   import os"
      ],
      "cell_type": "code",
      "metadata": {
        "colab": {
          "base_uri": "https://localhost:8080/",
          "height": 106
        },
        "id": "igJI_HyumRy1",
        "outputId": "85c72ce6-6b81-4f31-cbaa-139b46cf8ef1"
      },
      "execution_count": 3,
      "outputs": [
        {
          "output_type": "error",
          "ename": "IndentationError",
          "evalue": "unexpected indent (<ipython-input-3-cfb8d06f5e74>, line 2)",
          "traceback": [
            "\u001b[0;36m  File \u001b[0;32m\"<ipython-input-3-cfb8d06f5e74>\"\u001b[0;36m, line \u001b[0;32m2\u001b[0m\n\u001b[0;31m    import os\u001b[0m\n\u001b[0m    ^\u001b[0m\n\u001b[0;31mIndentationError\u001b[0m\u001b[0;31m:\u001b[0m unexpected indent\n"
          ]
        }
      ]
    },
    {
      "source": [
        "image_files = [f for f in os.listdir() if f.endswith(('.png', '.jpg', '.jpeg'))]"
      ],
      "cell_type": "code",
      "metadata": {
        "id": "Uo5X7sArmTxC"
      },
      "execution_count": 4,
      "outputs": []
    },
    {
      "source": [
        "for image_file in image_files:\n",
        "       display(Image(filename=image_file))"
      ],
      "cell_type": "code",
      "metadata": {
        "id": "EgTOF3edmWKE"
      },
      "execution_count": 5,
      "outputs": []
    },
    {
      "source": [
        "from IPython.display import Image, display\n",
        "import os\n",
        "\n",
        "# Get the list of image files\n",
        "image_files = [f for f in os.listdir() if f.endswith(('.png', '.jpg', '.jpeg'))]\n",
        "\n",
        "# Display the images\n",
        "for image_file in image_files:\n",
        "    display(Image(filename=image_file))"
      ],
      "cell_type": "code",
      "metadata": {
        "id": "q5pCxcYNmdkL"
      },
      "execution_count": 6,
      "outputs": []
    },
    {
      "cell_type": "code",
      "source": [
        "import os\n",
        "from IPython.display import display, HTML\n",
        "import urllib.request\n",
        "\n",
        "# Create a directory for images\n",
        "os.makedirs(\"images\", exist_ok=True)\n",
        "\n",
        "# List of a few image URLs\n",
        "image_urls = [\n",
        "    \"https://images.unsplash.com/photo-1503023345310-bd7c1de61c7d\",\n",
        "    \"https://images.unsplash.com/photo-1495567720989-cebdbdd97913\",\n",
        "    \"https://images.unsplash.com/photo-1519125323398-675f0ddb6308\"\n",
        "]\n",
        "\n",
        "# Download and save images\n",
        "image_tags = \"\"\n",
        "for idx, url in enumerate(image_urls):\n",
        "    local_path = f\"images/img{idx}.jpg\"\n",
        "    urllib.request.urlretrieve(url, local_path)\n",
        "    image_tags += f'<img src=\"{local_path}\" onclick=\"openFullScreen(this.src)\">\\n'\n",
        "\n",
        "# Build HTML\n",
        "html_code = f\"\"\"\n",
        "<!DOCTYPE html>\n",
        "<html lang=\"en\">\n",
        "<head>\n",
        "  <meta charset=\"UTF-8\" />\n",
        "  <meta name=\"viewport\" content=\"width=device-width, initial-scale=1\" />\n",
        "  <title>Image Gallery</title>\n",
        "  <style>\n",
        "    body {{\n",
        "      font-family: Arial, sans-serif;\n",
        "      margin: 0;\n",
        "      padding: 20px;\n",
        "      background-color: #f0f0f0;\n",
        "    }}\n",
        "    h2 {{\n",
        "      text-align: center;\n",
        "      margin-bottom: 20px;\n",
        "    }}\n",
        "    .gallery {{\n",
        "      display: flex;\n",
        "      flex-wrap: wrap;\n",
        "      gap: 15px;\n",
        "      justify-content: center;\n",
        "    }}\n",
        "    .gallery img {{\n",
        "      width: 120px;\n",
        "      height: 120px;\n",
        "      object-fit: cover;\n",
        "      border-radius: 8px;\n",
        "      cursor: pointer;\n",
        "      transition: transform 0.2s ease;\n",
        "    }}\n",
        "    .gallery img:hover {{\n",
        "      transform: scale(1.05);\n",
        "    }}\n",
        "    .fullscreen-overlay {{\n",
        "      display: none;\n",
        "      position: fixed;\n",
        "      top: 0;\n",
        "      left: 0;\n",
        "      width: 100%;\n",
        "      height: 100%;\n",
        "      background-color: rgba(0, 0, 0, 0.9);\n",
        "      justify-content: center;\n",
        "      align-items: center;\n",
        "      z-index: 9999;\n",
        "    }}\n",
        "    .fullscreen-overlay img {{\n",
        "      max-width: 90%;\n",
        "      max-height: 90%;\n",
        "      border-radius: 12px;\n",
        "    }}\n",
        "    .close-btn {{\n",
        "      position: absolute;\n",
        "      top: 20px;\n",
        "      right: 30px;\n",
        "      font-size: 35px;\n",
        "      color: white;\n",
        "      cursor: pointer;\n",
        "    }}\n",
        "  </style>\n",
        "</head>\n",
        "<body>\n",
        "\n",
        "  <h2>Click on any image to view in full screen</h2>\n",
        "  <div class=\"gallery\">\n",
        "    {image_tags}\n",
        "  </div>\n",
        "\n",
        "  <div class=\"fullscreen-overlay\" id=\"fullscreenOverlay\" onclick=\"closeFullScreen()\">\n",
        "    <span class=\"close-btn\" onclick=\"closeFullScreen()\">&times;</span>\n",
        "    <img id=\"fullscreenImage\" src=\"\" alt=\"Full Screen\" />\n",
        "  </div>\n",
        "\n",
        "  <script>\n",
        "    function openFullScreen(src) {{\n",
        "      document.getElementById('fullscreenOverlay').style.display = 'flex';\n",
        "      document.getElementById('fullscreenImage').src = src;\n",
        "    }}\n",
        "    function closeFullScreen() {{\n",
        "      document.getElementById('fullscreenOverlay').style.display = 'none';\n",
        "    }}\n",
        "  </script>\n",
        "\n",
        "</body>\n",
        "</html>\n",
        "\"\"\"\n",
        "\n",
        "# Save and display the HTML\n",
        "with open(\"gallery.html\", \"w\") as f:\n",
        "    f.write(html_code)\n",
        "\n",
        "display(HTML('<iframe src=\"gallery.html\" width=\"100%\" height=\"600px\"></iframe>'))\n"
      ],
      "metadata": {
        "colab": {
          "base_uri": "https://localhost:8080/",
          "height": 645
        },
        "id": "q7eKEXDGmywL",
        "outputId": "96801f15-419c-4a7a-e736-6cf34eb9e50c"
      },
      "execution_count": 7,
      "outputs": [
        {
          "output_type": "display_data",
          "data": {
            "text/plain": [
              "<IPython.core.display.HTML object>"
            ],
            "text/html": [
              "<iframe src=\"gallery.html\" width=\"100%\" height=\"600px\"></iframe>"
            ]
          },
          "metadata": {}
        }
      ]
    },
    {
      "cell_type": "code",
      "source": [
        "from IPython.core.display import display, HTML\n",
        "import os\n",
        "\n",
        "# List of all image files from your document\n",
        "image_files = [\n",
        "    \"media/image1.jpeg\", \"media/image2.jpeg\", \"media/image3.jpeg\",\n",
        "    \"media/image4.jpeg\", \"media/image5.png\", \"media/image6.jpeg\",\n",
        "    \"media/image7.jpeg\", \"media/image8.jpeg\", \"media/image9.jpeg\",\n",
        "    \"media/image10.jpeg\", \"media/image11.jpeg\", \"media/image12.jpeg\",\n",
        "    \"media/image13.jpeg\", \"media/image14.jpeg\", \"media/image15.jpeg\",\n",
        "    \"media/image16.jpeg\", \"media/image17.jpeg\", \"media/image18.jpeg\",\n",
        "    \"media/image19.jpeg\", \"media/image20.jpeg\", \"media/image21.jpeg\",\n",
        "    \"media/image22.jpeg\", \"media/image23.jpeg\"\n",
        "]\n",
        "\n",
        "# Generate HTML for the gallery\n",
        "html_code = \"\"\"\n",
        "<!DOCTYPE html>\n",
        "<html>\n",
        "<head>\n",
        "  <meta charset=\"UTF-8\">\n",
        "  <title>Handwriting Gallery</title>\n",
        "  <style>\n",
        "    body {\n",
        "      font-family: Arial, sans-serif;\n",
        "      margin: 0;\n",
        "      padding: 20px;\n",
        "      background-color: #f5f5f5;\n",
        "    }\n",
        "    h1 {\n",
        "      text-align: center;\n",
        "      color: #333;\n",
        "    }\n",
        "    .gallery {\n",
        "      display: grid;\n",
        "      grid-template-columns: repeat(auto-fill, minmax(200px, 1fr));\n",
        "      gap: 15px;\n",
        "      padding: 20px;\n",
        "    }\n",
        "    .gallery-item {\n",
        "      border-radius: 8px;\n",
        "      overflow: hidden;\n",
        "      box-shadow: 0 4px 8px rgba(0,0,0,0.1);\n",
        "      transition: transform 0.3s;\n",
        "      background: white;\n",
        "    }\n",
        "    .gallery-item:hover {\n",
        "      transform: scale(1.03);\n",
        "    }\n",
        "    .gallery-item img {\n",
        "      width: 100%;\n",
        "      height: 200px;\n",
        "      object-fit: cover;\n",
        "      cursor: pointer;\n",
        "    }\n",
        "    .modal {\n",
        "      display: none;\n",
        "      position: fixed;\n",
        "      z-index: 100;\n",
        "      left: 0;\n",
        "      top: 0;\n",
        "      width: 100%;\n",
        "      height: 100%;\n",
        "      background-color: rgba(0,0,0,0.9);\n",
        "    }\n",
        "    .modal-content {\n",
        "      margin: auto;\n",
        "      display: block;\n",
        "      max-width: 90%;\n",
        "      max-height: 90%;\n",
        "      position: absolute;\n",
        "      top: 50%;\n",
        "      left: 50%;\n",
        "      transform: translate(-50%, -50%);\n",
        "    }\n",
        "    .close {\n",
        "      position: absolute;\n",
        "      top: 20px;\n",
        "      right: 30px;\n",
        "      color: white;\n",
        "      font-size: 35px;\n",
        "      cursor: pointer;\n",
        "    }\n",
        "  </style>\n",
        "</head>\n",
        "<body>\n",
        "  <h1>Handwriting Examples Gallery</h1>\n",
        "  <div class=\"gallery\">\n",
        "\"\"\"\n",
        "\n",
        "# Add images to gallery\n",
        "for img in image_files:\n",
        "    html_code += f\"\"\"\n",
        "    <div class=\"gallery-item\">\n",
        "      <img src=\"{img}\" onclick=\"openModal(this)\">\n",
        "    </div>\n",
        "    \"\"\"\n",
        "\n",
        "html_code += \"\"\"\n",
        "  </div>\n",
        "  <div id=\"modal\" class=\"modal\">\n",
        "    <span class=\"close\" onclick=\"closeModal()\">&times;</span>\n",
        "    <img class=\"modal-content\" id=\"modal-img\">\n",
        "  </div>\n",
        "  <script>\n",
        "    function openModal(img) {\n",
        "      document.getElementById('modal').style.display = \"block\";\n",
        "      document.getElementById('modal-img').src = img.src;\n",
        "    }\n",
        "    function closeModal() {\n",
        "      document.getElementById('modal').style.display = \"none\";\n",
        "    }\n",
        "    window.onclick = function(event) {\n",
        "      if (event.target == document.getElementById('modal')) {\n",
        "        closeModal();\n",
        "      }\n",
        "    }\n",
        "  </script>\n",
        "</body>\n",
        "</html>\n",
        "\"\"\"\n",
        "\n",
        "# Display in Jupyter\n",
        "display(HTML(html_code))"
      ],
      "metadata": {
        "colab": {
          "resources": {
            "http://localhost:8080/media/image3.jpeg": {
              "data": "",
              "ok": false,
              "headers": [
                [
                  "content-length",
                  "0"
                ]
              ],
              "status": 404,
              "status_text": ""
            },
            "http://localhost:8080/media/image10.jpeg": {
              "data": "",
              "ok": false,
              "headers": [
                [
                  "content-length",
                  "0"
                ]
              ],
              "status": 404,
              "status_text": ""
            },
            "http://localhost:8080/media/image1.jpeg": {
              "data": "",
              "ok": false,
              "headers": [
                [
                  "content-length",
                  "0"
                ]
              ],
              "status": 404,
              "status_text": ""
            },
            "http://localhost:8080/media/image12.jpeg": {
              "data": "",
              "ok": false,
              "headers": [
                [
                  "content-length",
                  "0"
                ]
              ],
              "status": 404,
              "status_text": ""
            },
            "http://localhost:8080/media/image4.jpeg": {
              "data": "",
              "ok": false,
              "headers": [
                [
                  "content-length",
                  "0"
                ]
              ],
              "status": 404,
              "status_text": ""
            },
            "http://localhost:8080/media/image22.jpeg": {
              "data": "",
              "ok": false,
              "headers": [
                [
                  "content-length",
                  "0"
                ]
              ],
              "status": 404,
              "status_text": ""
            },
            "http://localhost:8080/media/image17.jpeg": {
              "data": "",
              "ok": false,
              "headers": [
                [
                  "content-length",
                  "0"
                ]
              ],
              "status": 404,
              "status_text": ""
            },
            "http://localhost:8080/media/image5.png": {
              "data": "",
              "ok": false,
              "headers": [
                [
                  "content-length",
                  "0"
                ]
              ],
              "status": 404,
              "status_text": ""
            },
            "http://localhost:8080/media/image9.jpeg": {
              "data": "",
              "ok": false,
              "headers": [
                [
                  "content-length",
                  "0"
                ]
              ],
              "status": 404,
              "status_text": ""
            },
            "http://localhost:8080/media/image21.jpeg": {
              "data": "",
              "ok": false,
              "headers": [
                [
                  "content-length",
                  "0"
                ]
              ],
              "status": 404,
              "status_text": ""
            },
            "http://localhost:8080/media/image20.jpeg": {
              "data": "",
              "ok": false,
              "headers": [
                [
                  "content-length",
                  "0"
                ]
              ],
              "status": 404,
              "status_text": ""
            },
            "http://localhost:8080/media/image19.jpeg": {
              "data": "",
              "ok": false,
              "headers": [
                [
                  "content-length",
                  "0"
                ]
              ],
              "status": 404,
              "status_text": ""
            },
            "http://localhost:8080/media/image14.jpeg": {
              "data": "",
              "ok": false,
              "headers": [
                [
                  "content-length",
                  "0"
                ]
              ],
              "status": 404,
              "status_text": ""
            },
            "http://localhost:8080/media/image11.jpeg": {
              "data": "",
              "ok": false,
              "headers": [
                [
                  "content-length",
                  "0"
                ]
              ],
              "status": 404,
              "status_text": ""
            },
            "http://localhost:8080/media/image13.jpeg": {
              "data": "",
              "ok": false,
              "headers": [
                [
                  "content-length",
                  "0"
                ]
              ],
              "status": 404,
              "status_text": ""
            },
            "http://localhost:8080/media/image2.jpeg": {
              "data": "",
              "ok": false,
              "headers": [
                [
                  "content-length",
                  "0"
                ]
              ],
              "status": 404,
              "status_text": ""
            },
            "http://localhost:8080/media/image16.jpeg": {
              "data": "",
              "ok": false,
              "headers": [
                [
                  "content-length",
                  "0"
                ]
              ],
              "status": 404,
              "status_text": ""
            },
            "http://localhost:8080/media/image7.jpeg": {
              "data": "",
              "ok": false,
              "headers": [
                [
                  "content-length",
                  "0"
                ]
              ],
              "status": 404,
              "status_text": ""
            },
            "http://localhost:8080/media/image6.jpeg": {
              "data": "",
              "ok": false,
              "headers": [
                [
                  "content-length",
                  "0"
                ]
              ],
              "status": 404,
              "status_text": ""
            },
            "http://localhost:8080/media/image18.jpeg": {
              "data": "",
              "ok": false,
              "headers": [
                [
                  "content-length",
                  "0"
                ]
              ],
              "status": 404,
              "status_text": ""
            },
            "http://localhost:8080/media/image15.jpeg": {
              "data": "",
              "ok": false,
              "headers": [
                [
                  "content-length",
                  "0"
                ]
              ],
              "status": 404,
              "status_text": ""
            },
            "http://localhost:8080/media/image23.jpeg": {
              "data": "",
              "ok": false,
              "headers": [
                [
                  "content-length",
                  "0"
                ]
              ],
              "status": 404,
              "status_text": ""
            },
            "http://localhost:8080/media/image8.jpeg": {
              "data": "",
              "ok": false,
              "headers": [
                [
                  "content-length",
                  "0"
                ]
              ],
              "status": 404,
              "status_text": ""
            }
          },
          "base_uri": "https://localhost:8080/",
          "height": 1000
        },
        "id": "L_aemxKPndYy",
        "outputId": "86ed89a3-4419-41af-84e7-45558a4f9546"
      },
      "execution_count": 8,
      "outputs": [
        {
          "output_type": "display_data",
          "data": {
            "text/plain": [
              "<IPython.core.display.HTML object>"
            ],
            "text/html": [
              "\n",
              "<!DOCTYPE html>\n",
              "<html>\n",
              "<head>\n",
              "  <meta charset=\"UTF-8\">\n",
              "  <title>Handwriting Gallery</title>\n",
              "  <style>\n",
              "    body {\n",
              "      font-family: Arial, sans-serif;\n",
              "      margin: 0;\n",
              "      padding: 20px;\n",
              "      background-color: #f5f5f5;\n",
              "    }\n",
              "    h1 {\n",
              "      text-align: center;\n",
              "      color: #333;\n",
              "    }\n",
              "    .gallery {\n",
              "      display: grid;\n",
              "      grid-template-columns: repeat(auto-fill, minmax(200px, 1fr));\n",
              "      gap: 15px;\n",
              "      padding: 20px;\n",
              "    }\n",
              "    .gallery-item {\n",
              "      border-radius: 8px;\n",
              "      overflow: hidden;\n",
              "      box-shadow: 0 4px 8px rgba(0,0,0,0.1);\n",
              "      transition: transform 0.3s;\n",
              "      background: white;\n",
              "    }\n",
              "    .gallery-item:hover {\n",
              "      transform: scale(1.03);\n",
              "    }\n",
              "    .gallery-item img {\n",
              "      width: 100%;\n",
              "      height: 200px;\n",
              "      object-fit: cover;\n",
              "      cursor: pointer;\n",
              "    }\n",
              "    .modal {\n",
              "      display: none;\n",
              "      position: fixed;\n",
              "      z-index: 100;\n",
              "      left: 0;\n",
              "      top: 0;\n",
              "      width: 100%;\n",
              "      height: 100%;\n",
              "      background-color: rgba(0,0,0,0.9);\n",
              "    }\n",
              "    .modal-content {\n",
              "      margin: auto;\n",
              "      display: block;\n",
              "      max-width: 90%;\n",
              "      max-height: 90%;\n",
              "      position: absolute;\n",
              "      top: 50%;\n",
              "      left: 50%;\n",
              "      transform: translate(-50%, -50%);\n",
              "    }\n",
              "    .close {\n",
              "      position: absolute;\n",
              "      top: 20px;\n",
              "      right: 30px;\n",
              "      color: white;\n",
              "      font-size: 35px;\n",
              "      cursor: pointer;\n",
              "    }\n",
              "  </style>\n",
              "</head>\n",
              "<body>\n",
              "  <h1>Handwriting Examples Gallery</h1>\n",
              "  <div class=\"gallery\">\n",
              "\n",
              "    <div class=\"gallery-item\">\n",
              "      <img src=\"media/image1.jpeg\" onclick=\"openModal(this)\">\n",
              "    </div>\n",
              "    \n",
              "    <div class=\"gallery-item\">\n",
              "      <img src=\"media/image2.jpeg\" onclick=\"openModal(this)\">\n",
              "    </div>\n",
              "    \n",
              "    <div class=\"gallery-item\">\n",
              "      <img src=\"media/image3.jpeg\" onclick=\"openModal(this)\">\n",
              "    </div>\n",
              "    \n",
              "    <div class=\"gallery-item\">\n",
              "      <img src=\"media/image4.jpeg\" onclick=\"openModal(this)\">\n",
              "    </div>\n",
              "    \n",
              "    <div class=\"gallery-item\">\n",
              "      <img src=\"media/image5.png\" onclick=\"openModal(this)\">\n",
              "    </div>\n",
              "    \n",
              "    <div class=\"gallery-item\">\n",
              "      <img src=\"media/image6.jpeg\" onclick=\"openModal(this)\">\n",
              "    </div>\n",
              "    \n",
              "    <div class=\"gallery-item\">\n",
              "      <img src=\"media/image7.jpeg\" onclick=\"openModal(this)\">\n",
              "    </div>\n",
              "    \n",
              "    <div class=\"gallery-item\">\n",
              "      <img src=\"media/image8.jpeg\" onclick=\"openModal(this)\">\n",
              "    </div>\n",
              "    \n",
              "    <div class=\"gallery-item\">\n",
              "      <img src=\"media/image9.jpeg\" onclick=\"openModal(this)\">\n",
              "    </div>\n",
              "    \n",
              "    <div class=\"gallery-item\">\n",
              "      <img src=\"media/image10.jpeg\" onclick=\"openModal(this)\">\n",
              "    </div>\n",
              "    \n",
              "    <div class=\"gallery-item\">\n",
              "      <img src=\"media/image11.jpeg\" onclick=\"openModal(this)\">\n",
              "    </div>\n",
              "    \n",
              "    <div class=\"gallery-item\">\n",
              "      <img src=\"media/image12.jpeg\" onclick=\"openModal(this)\">\n",
              "    </div>\n",
              "    \n",
              "    <div class=\"gallery-item\">\n",
              "      <img src=\"media/image13.jpeg\" onclick=\"openModal(this)\">\n",
              "    </div>\n",
              "    \n",
              "    <div class=\"gallery-item\">\n",
              "      <img src=\"media/image14.jpeg\" onclick=\"openModal(this)\">\n",
              "    </div>\n",
              "    \n",
              "    <div class=\"gallery-item\">\n",
              "      <img src=\"media/image15.jpeg\" onclick=\"openModal(this)\">\n",
              "    </div>\n",
              "    \n",
              "    <div class=\"gallery-item\">\n",
              "      <img src=\"media/image16.jpeg\" onclick=\"openModal(this)\">\n",
              "    </div>\n",
              "    \n",
              "    <div class=\"gallery-item\">\n",
              "      <img src=\"media/image17.jpeg\" onclick=\"openModal(this)\">\n",
              "    </div>\n",
              "    \n",
              "    <div class=\"gallery-item\">\n",
              "      <img src=\"media/image18.jpeg\" onclick=\"openModal(this)\">\n",
              "    </div>\n",
              "    \n",
              "    <div class=\"gallery-item\">\n",
              "      <img src=\"media/image19.jpeg\" onclick=\"openModal(this)\">\n",
              "    </div>\n",
              "    \n",
              "    <div class=\"gallery-item\">\n",
              "      <img src=\"media/image20.jpeg\" onclick=\"openModal(this)\">\n",
              "    </div>\n",
              "    \n",
              "    <div class=\"gallery-item\">\n",
              "      <img src=\"media/image21.jpeg\" onclick=\"openModal(this)\">\n",
              "    </div>\n",
              "    \n",
              "    <div class=\"gallery-item\">\n",
              "      <img src=\"media/image22.jpeg\" onclick=\"openModal(this)\">\n",
              "    </div>\n",
              "    \n",
              "    <div class=\"gallery-item\">\n",
              "      <img src=\"media/image23.jpeg\" onclick=\"openModal(this)\">\n",
              "    </div>\n",
              "    \n",
              "  </div>\n",
              "  <div id=\"modal\" class=\"modal\">\n",
              "    <span class=\"close\" onclick=\"closeModal()\">&times;</span>\n",
              "    <img class=\"modal-content\" id=\"modal-img\">\n",
              "  </div>\n",
              "  <script>\n",
              "    function openModal(img) {\n",
              "      document.getElementById('modal').style.display = \"block\";\n",
              "      document.getElementById('modal-img').src = img.src;\n",
              "    }\n",
              "    function closeModal() {\n",
              "      document.getElementById('modal').style.display = \"none\";\n",
              "    }\n",
              "    window.onclick = function(event) {\n",
              "      if (event.target == document.getElementById('modal')) {\n",
              "        closeModal();\n",
              "      }\n",
              "    }\n",
              "  </script>\n",
              "</body>\n",
              "</html>\n"
            ]
          },
          "metadata": {}
        }
      ]
    },
    {
      "cell_type": "code",
      "source": [
        "import tkinter as tk\n",
        "from tkinter import ttk\n",
        "from PIL import ImageTk, Image\n",
        "import os\n",
        "\n",
        "class HandwritingGallery:\n",
        "    def __init__(self, root):\n",
        "        self.root = root\n",
        "        self.root.title(\"Handwriting Examples Gallery\")\n",
        "\n",
        "        # List of images (update paths as needed)\n",
        "        self.image_files = [\n",
        "            \"media/image1.jpeg\", \"media/image2.jpeg\", \"media/image3.jpeg\",\n",
        "            \"media/image4.jpeg\", \"media/image5.png\", \"media/image6.jpeg\",\n",
        "            \"media/image7.jpeg\", \"media/image8.jpeg\", \"media/image9.jpeg\",\n",
        "            \"media/image10.jpeg\", \"media/image11.jpeg\", \"media/image12.jpeg\",\n",
        "            \"media/image13.jpeg\", \"media/image14.jpeg\", \"media/image15.jpeg\",\n",
        "            \"media/image16.jpeg\", \"media/image17.jpeg\", \"media/image18.jpeg\",\n",
        "            \"media/image19.jpeg\", \"media/image20.jpeg\", \"media/image21.jpeg\",\n",
        "            \"media/image22.jpeg\", \"media/image23.jpeg\"\n",
        "        ]\n",
        "\n",
        "        # Create main container\n",
        "        self.main_frame = ttk.Frame(root)\n",
        "        self.main_frame.pack(fill=tk.BOTH, expand=True)\n",
        "\n",
        "        # Create canvas with scrollbar\n",
        "        self.canvas = tk.Canvas(self.main_frame)\n",
        "        self.scrollbar = ttk.Scrollbar(self.main_frame, orient=\"vertical\", command=self.canvas.yview)\n",
        "        self.scrollable_frame = ttk.Frame(self.canvas)\n",
        "\n",
        "        self.scrollable_frame.bind(\n",
        "            \"<Configure>\",\n",
        "            lambda e: self.canvas.configure(\n",
        "                scrollregion=self.canvas.bbox(\"all\")\n",
        "            )\n",
        "        )\n",
        "\n",
        "        self.canvas.create_window((0, 0), window=self.scrollable_frame, anchor=\"nw\")\n",
        "        self.canvas.configure(yscrollcommand=self.scrollbar.set)\n",
        "\n",
        "        self.canvas.pack(side=\"left\", fill=\"both\", expand=True)\n",
        "        self.scrollbar.pack(side=\"right\", fill=\"y\")\n",
        "\n",
        "        # Load and display thumbnails\n",
        "        self.images = []\n",
        "        self.photo_images = []\n",
        "\n",
        "        for idx, img_path in enumerate(self.image_files):\n",
        "            try:\n",
        "                img = Image.open(img_path)\n",
        "                img.thumbnail((200, 200))\n",
        "                photo_img = ImageTk.PhotoImage(img)\n",
        "\n",
        "                self.photo_images.append(photo_img)  # Keep reference\n",
        "\n",
        "                btn = ttk.Button(\n",
        "                    self.scrollable_frame,\n",
        "                    image=photo_img,\n",
        "                    command=lambda path=img_path: self.show_full_image(path)\n",
        "                )\n",
        "                btn.grid(row=idx//4, column=idx%4, padx=5, pady=5)\n",
        "                self.images.append(img)\n",
        "            except Exception as e:\n",
        "                print(f\"Error loading {img_path}: {e}\")\n",
        "\n",
        "    def show_full_image(self, img_path):\n",
        "        top = tk.Toplevel(self.root)\n",
        "        top.title(os.path.basename(img_path))\n",
        "\n",
        "        try:\n",
        "            img = Image.open(img_path)\n",
        "            photo_img = ImageTk.PhotoImage(img)\n",
        "\n",
        "            label = ttk.Label(top, image=photo_img)\n",
        "            label.image = photo_img  # Keep reference\n",
        "            label.pack()\n",
        "\n",
        "            close_btn = ttk.Button(top, text=\"Close\", command=top.destroy)\n",
        "            close_btn.pack(pady=10)\n",
        "        except Exception as e:\n",
        "            print(f\"Error displaying {img_path}: {e}\")\n",
        "            top.destroy()\n",
        "\n",
        "if __name__ == \"__main__\":\n",
        "    root = tk.Tk()\n",
        "    root.geometry(\"900x700\")\n",
        "    app = HandwritingGallery(root)\n",
        "    root.mainloop()"
      ],
      "metadata": {
        "colab": {
          "base_uri": "https://localhost:8080/",
          "height": 332
        },
        "id": "ShQXNhHLnmry",
        "outputId": "14d7217e-df3b-41f7-ee21-7c95d23b53fb"
      },
      "execution_count": 9,
      "outputs": [
        {
          "output_type": "error",
          "ename": "TclError",
          "evalue": "no display name and no $DISPLAY environment variable",
          "traceback": [
            "\u001b[0;31m---------------------------------------------------------------------------\u001b[0m",
            "\u001b[0;31mTclError\u001b[0m                                  Traceback (most recent call last)",
            "\u001b[0;32m<ipython-input-9-15a99049d6e7>\u001b[0m in \u001b[0;36m<cell line: 0>\u001b[0;34m()\u001b[0m\n\u001b[1;32m     84\u001b[0m \u001b[0;34m\u001b[0m\u001b[0m\n\u001b[1;32m     85\u001b[0m \u001b[0;32mif\u001b[0m \u001b[0m__name__\u001b[0m \u001b[0;34m==\u001b[0m \u001b[0;34m\"__main__\"\u001b[0m\u001b[0;34m:\u001b[0m\u001b[0;34m\u001b[0m\u001b[0;34m\u001b[0m\u001b[0m\n\u001b[0;32m---> 86\u001b[0;31m     \u001b[0mroot\u001b[0m \u001b[0;34m=\u001b[0m \u001b[0mtk\u001b[0m\u001b[0;34m.\u001b[0m\u001b[0mTk\u001b[0m\u001b[0;34m(\u001b[0m\u001b[0;34m)\u001b[0m\u001b[0;34m\u001b[0m\u001b[0;34m\u001b[0m\u001b[0m\n\u001b[0m\u001b[1;32m     87\u001b[0m     \u001b[0mroot\u001b[0m\u001b[0;34m.\u001b[0m\u001b[0mgeometry\u001b[0m\u001b[0;34m(\u001b[0m\u001b[0;34m\"900x700\"\u001b[0m\u001b[0;34m)\u001b[0m\u001b[0;34m\u001b[0m\u001b[0;34m\u001b[0m\u001b[0m\n\u001b[1;32m     88\u001b[0m     \u001b[0mapp\u001b[0m \u001b[0;34m=\u001b[0m \u001b[0mHandwritingGallery\u001b[0m\u001b[0;34m(\u001b[0m\u001b[0mroot\u001b[0m\u001b[0;34m)\u001b[0m\u001b[0;34m\u001b[0m\u001b[0;34m\u001b[0m\u001b[0m\n",
            "\u001b[0;32m/usr/lib/python3.11/tkinter/__init__.py\u001b[0m in \u001b[0;36m__init__\u001b[0;34m(self, screenName, baseName, className, useTk, sync, use)\u001b[0m\n\u001b[1;32m   2324\u001b[0m                 \u001b[0mbaseName\u001b[0m \u001b[0;34m=\u001b[0m \u001b[0mbaseName\u001b[0m \u001b[0;34m+\u001b[0m \u001b[0mext\u001b[0m\u001b[0;34m\u001b[0m\u001b[0;34m\u001b[0m\u001b[0m\n\u001b[1;32m   2325\u001b[0m         \u001b[0minteractive\u001b[0m \u001b[0;34m=\u001b[0m \u001b[0;32mFalse\u001b[0m\u001b[0;34m\u001b[0m\u001b[0;34m\u001b[0m\u001b[0m\n\u001b[0;32m-> 2326\u001b[0;31m         \u001b[0mself\u001b[0m\u001b[0;34m.\u001b[0m\u001b[0mtk\u001b[0m \u001b[0;34m=\u001b[0m \u001b[0m_tkinter\u001b[0m\u001b[0;34m.\u001b[0m\u001b[0mcreate\u001b[0m\u001b[0;34m(\u001b[0m\u001b[0mscreenName\u001b[0m\u001b[0;34m,\u001b[0m \u001b[0mbaseName\u001b[0m\u001b[0;34m,\u001b[0m \u001b[0mclassName\u001b[0m\u001b[0;34m,\u001b[0m \u001b[0minteractive\u001b[0m\u001b[0;34m,\u001b[0m \u001b[0mwantobjects\u001b[0m\u001b[0;34m,\u001b[0m \u001b[0museTk\u001b[0m\u001b[0;34m,\u001b[0m \u001b[0msync\u001b[0m\u001b[0;34m,\u001b[0m \u001b[0muse\u001b[0m\u001b[0;34m)\u001b[0m\u001b[0;34m\u001b[0m\u001b[0;34m\u001b[0m\u001b[0m\n\u001b[0m\u001b[1;32m   2327\u001b[0m         \u001b[0;32mif\u001b[0m \u001b[0museTk\u001b[0m\u001b[0;34m:\u001b[0m\u001b[0;34m\u001b[0m\u001b[0;34m\u001b[0m\u001b[0m\n\u001b[1;32m   2328\u001b[0m             \u001b[0mself\u001b[0m\u001b[0;34m.\u001b[0m\u001b[0m_loadtk\u001b[0m\u001b[0;34m(\u001b[0m\u001b[0;34m)\u001b[0m\u001b[0;34m\u001b[0m\u001b[0;34m\u001b[0m\u001b[0m\n",
            "\u001b[0;31mTclError\u001b[0m: no display name and no $DISPLAY environment variable"
          ]
        }
      ]
    },
    {
      "source": [
        "import os\n",
        "from IPython.display import display"
      ],
      "cell_type": "code",
      "metadata": {
        "id": "vxao9qJBns6i"
      },
      "execution_count": 11,
      "outputs": []
    },
    {
      "cell_type": "code",
      "source": [
        "from IPython.display import display, HTML\n",
        "import os\n",
        "\n",
        "# HTML and CSS for the gallery\n",
        "gallery_html = \"\"\"\n",
        "<style>\n",
        "  .handwriting-gallery {\n",
        "    display: grid;\n",
        "    grid-template-columns: repeat(auto-fill, minmax(250px, 1fr));\n",
        "    gap: 15px;\n",
        "    padding: 20px;\n",
        "    background-color: #f9f9f9;\n",
        "    border-radius: 10px;\n",
        "    margin: 20px 0;\n",
        "  }\n",
        "  .gallery-item {\n",
        "    border-radius: 8px;\n",
        "    overflow: hidden;\n",
        "    box-shadow: 0 4px 8px rgba(0,0,0,0.1);\n",
        "    transition: transform 0.3s;\n",
        "    background: white;\n",
        "    position: relative;\n",
        "  }\n",
        "  .gallery-item:hover {\n",
        "    transform: translateY(-5px);\n",
        "    box-shadow: 0 6px 12px rgba(0,0,0,0.15);\n",
        "  }\n",
        "  .gallery-item img {\n",
        "    width: 100%;\n",
        "    height: 200px;\n",
        "    object-fit: contain;\n",
        "    background: white;\n",
        "    cursor: pointer;\n",
        "    border-bottom: 1px solid #eee;\n",
        "  }\n",
        "  .image-info {\n",
        "    padding: 10px;\n",
        "    font-family: Arial, sans-serif;\n",
        "    color: #555;\n",
        "    font-size: 14px;\n",
        "  }\n",
        "  .modal {\n",
        "    display: none;\n",
        "    position: fixed;\n",
        "    z-index: 1000;\n",
        "    left: 0;\n",
        "    top: 0;\n",
        "    width: 100%;\n",
        "    height: 100%;\n",
        "    background-color: rgba(0,0,0,0.9);\n",
        "    overflow: auto;\n",
        "  }\n",
        "  .modal-content {\n",
        "    margin: auto;\n",
        "    display: block;\n",
        "    max-width: 90%;\n",
        "    max-height: 90%;\n",
        "    position: absolute;\n",
        "    top: 50%;\n",
        "    left: 50%;\n",
        "    transform: translate(-50%, -50%);\n",
        "  }\n",
        "  .close {\n",
        "    position: absolute;\n",
        "    top: 20px;\n",
        "    right: 35px;\n",
        "    color: #f1f1f1;\n",
        "    font-size: 40px;\n",
        "    font-weight: bold;\n",
        "    transition: 0.3s;\n",
        "    cursor: pointer;\n",
        "  }\n",
        "  .close:hover {\n",
        "    color: #bbb;\n",
        "  }\n",
        "  .caption {\n",
        "    margin: auto;\n",
        "    display: block;\n",
        "    width: 80%;\n",
        "    max-width: 700px;\n",
        "    text-align: center;\n",
        "    color: #ccc;\n",
        "    padding: 10px 0;\n",
        "    font-family: Arial, sans-serif;\n",
        "  }\n",
        "</style>\n",
        "\n",
        "<div class=\"handwriting-gallery\" id=\"gallery-container\">\n",
        "  <!-- Images will be inserted here by JavaScript -->\n",
        "</div>\n",
        "\n",
        "<div id=\"image-modal\" class=\"modal\">\n",
        "  <span class=\"close\" onclick=\"closeModal()\">&times;</span>\n",
        "  <img class=\"modal-content\" id=\"modal-image\">\n",
        "  <div class=\"caption\" id=\"caption\"></div>\n",
        "</div>\n",
        "\n",
        "<script>\n",
        "// Image data - paths and alt text\n",
        "const imageData = [\n",
        "  {src: \"media/image1.jpeg\", alt: \"Assignments, notes in beautiful and clear hand writing\"},\n",
        "  {src: \"media/image2.jpeg\", alt: \"37 Beautiful Handwriting Examples\"},\n",
        "  {src: \"media/image3.jpeg\", alt: \"Handwriting example from r/Handwriting\"},\n",
        "  {src: \"media/image4.jpeg\", alt: \"Personal handwriting sample\"},\n",
        "  {src: \"media/image5.png\", alt: \"Handwriting improvement request\"},\n",
        "  {src: \"media/image6.jpeg\", alt: \"Filipino/Tagalog cursive handwriting\"},\n",
        "  {src: \"media/image7.jpeg\", alt: \"Handwriting update\"},\n",
        "  {src: \"media/image8.jpeg\", alt: \"Handwritten notes and letters\"},\n",
        "  {src: \"media/image9.jpeg\", alt: \"Clean handwriting example\"},\n",
        "  {src: \"media/image10.jpeg\", alt: \"Beautiful handwriting for assignments\"},\n",
        "  {src: \"media/image11.jpeg\", alt: \"Attractive handwriting sample\"},\n",
        "  {src: \"media/image12.jpeg\", alt: \"Beautiful cursive handwriting\"},\n",
        "  {src: \"media/image13.jpeg\", alt: \"Cursive and Urdu handwriting\"},\n",
        "  {src: \"media/image14.jpeg\", alt: \"Beautiful handwriting for notes\"},\n",
        "  {src: \"media/image15.jpeg\", alt: \"Handwriting for notes and cards\"},\n",
        "  {src: \"media/image16.jpeg\", alt: \"Typing handwritten notes\"},\n",
        "  {src: \"media/image17.jpeg\", alt: \"Handwriting notes and letters\"},\n",
        "  {src: \"media/image18.jpeg\", alt: \"Handwriting notes and letters\"},\n",
        "  {src: \"media/image19.jpeg\", alt: \"Good cursive handwriting\"},\n",
        "  {src: \"media/image20.jpeg\", alt: \"Calligraphy with normal gel pen\"},\n",
        "  {src: \"media/image21.jpeg\", alt: \"More quotes written\"},\n",
        "  {src: \"media/image22.jpeg\", alt: \"Dreams become reality handwriting\"},\n",
        "  {src: \"media/image23.jpeg\", alt: \"Friendship quotes in cursive\"}\n",
        "];\n",
        "\n",
        "// Create gallery items\n",
        "const gallery = document.getElementById('gallery-container');\n",
        "imageData.forEach((image, index) => {\n",
        "  const item = document.createElement('div');\n",
        "  item.className = 'gallery-item';\n",
        "  item.innerHTML = `\n",
        "    <img src=\"${image.src}\" alt=\"${image.alt}\" onclick=\"openModal(${index})\">\n",
        "    <div class=\"image-info\">${image.alt.substring(0, 50)}${image.alt.length > 50 ? '...' : ''}</div>\n",
        "  `;\n",
        "  gallery.appendChild(item);\n",
        "});\n",
        "\n",
        "// Modal functions\n",
        "let currentIndex = 0;\n",
        "function openModal(index) {\n",
        "  currentIndex = index;\n",
        "  const modal = document.getElementById('image-modal');\n",
        "  const modalImg = document.getElementById('modal-image');\n",
        "  const caption = document.getElementById('caption');\n",
        "\n",
        "  modal.style.display = \"block\";\n",
        "  modalImg.src = imageData[index].src;\n",
        "  caption.innerHTML = imageData[index].alt;\n",
        "}\n",
        "\n",
        "function closeModal() {\n",
        "  document.getElementById('image-modal').style.display = \"none\";\n",
        "}\n",
        "\n",
        "// Keyboard navigation\n",
        "document.addEventListener('keydown', function(event) {\n",
        "  const modal = document.getElementById('image-modal');\n",
        "  if (modal.style.display === \"block\") {\n",
        "    if (event.key === 'Escape') {\n",
        "      closeModal();\n",
        "    } else if (event.key === 'ArrowLeft' && currentIndex > 0) {\n",
        "      openModal(currentIndex - 1);\n",
        "    } else if (event.key === 'ArrowRight' && currentIndex < imageData.length - 1) {\n",
        "      openModal(currentIndex + 1);\n",
        "    }\n",
        "  }\n",
        "});\n",
        "\n",
        "// Close when clicking outside image\n",
        "window.onclick = function(event) {\n",
        "  const modal = document.getElementById('image-modal');\n",
        "  if (event.target == modal) {\n",
        "    closeModal();\n",
        "  }\n",
        "}\n",
        "</script>\n",
        "\"\"\"\n",
        "\n",
        "# Display the gallery\n",
        "display(HTML(gallery_html))"
      ],
      "metadata": {
        "colab": {
          "resources": {
            "http://localhost:8080/media/image3.jpeg": {
              "data": "",
              "ok": false,
              "headers": [
                [
                  "content-length",
                  "0"
                ]
              ],
              "status": 404,
              "status_text": ""
            },
            "http://localhost:8080/media/image7.jpeg": {
              "data": "",
              "ok": false,
              "headers": [
                [
                  "content-length",
                  "0"
                ]
              ],
              "status": 404,
              "status_text": ""
            },
            "http://localhost:8080/media/image8.jpeg": {
              "data": "",
              "ok": false,
              "headers": [
                [
                  "content-length",
                  "0"
                ]
              ],
              "status": 404,
              "status_text": ""
            },
            "http://localhost:8080/media/image13.jpeg": {
              "data": "",
              "ok": false,
              "headers": [
                [
                  "content-length",
                  "0"
                ]
              ],
              "status": 404,
              "status_text": ""
            },
            "http://localhost:8080/media/image9.jpeg": {
              "data": "",
              "ok": false,
              "headers": [
                [
                  "content-length",
                  "0"
                ]
              ],
              "status": 404,
              "status_text": ""
            },
            "http://localhost:8080/media/image1.jpeg": {
              "data": "",
              "ok": false,
              "headers": [
                [
                  "content-length",
                  "0"
                ]
              ],
              "status": 404,
              "status_text": ""
            },
            "http://localhost:8080/media/image11.jpeg": {
              "data": "",
              "ok": false,
              "headers": [
                [
                  "content-length",
                  "0"
                ]
              ],
              "status": 404,
              "status_text": ""
            },
            "http://localhost:8080/media/image2.jpeg": {
              "data": "",
              "ok": false,
              "headers": [
                [
                  "content-length",
                  "0"
                ]
              ],
              "status": 404,
              "status_text": ""
            },
            "http://localhost:8080/media/image19.jpeg": {
              "data": "",
              "ok": false,
              "headers": [
                [
                  "content-length",
                  "0"
                ]
              ],
              "status": 404,
              "status_text": ""
            },
            "http://localhost:8080/media/image5.png": {
              "data": "",
              "ok": false,
              "headers": [
                [
                  "content-length",
                  "0"
                ]
              ],
              "status": 404,
              "status_text": ""
            },
            "http://localhost:8080/media/image6.jpeg": {
              "data": "",
              "ok": false,
              "headers": [
                [
                  "content-length",
                  "0"
                ]
              ],
              "status": 404,
              "status_text": ""
            },
            "http://localhost:8080/media/image10.jpeg": {
              "data": "",
              "ok": false,
              "headers": [
                [
                  "content-length",
                  "0"
                ]
              ],
              "status": 404,
              "status_text": ""
            },
            "http://localhost:8080/media/image15.jpeg": {
              "data": "",
              "ok": false,
              "headers": [
                [
                  "content-length",
                  "0"
                ]
              ],
              "status": 404,
              "status_text": ""
            },
            "http://localhost:8080/media/image14.jpeg": {
              "data": "",
              "ok": false,
              "headers": [
                [
                  "content-length",
                  "0"
                ]
              ],
              "status": 404,
              "status_text": ""
            },
            "http://localhost:8080/media/image22.jpeg": {
              "data": "",
              "ok": false,
              "headers": [
                [
                  "content-length",
                  "0"
                ]
              ],
              "status": 404,
              "status_text": ""
            },
            "http://localhost:8080/media/image20.jpeg": {
              "data": "",
              "ok": false,
              "headers": [
                [
                  "content-length",
                  "0"
                ]
              ],
              "status": 404,
              "status_text": ""
            },
            "http://localhost:8080/media/image4.jpeg": {
              "data": "",
              "ok": false,
              "headers": [
                [
                  "content-length",
                  "0"
                ]
              ],
              "status": 404,
              "status_text": ""
            },
            "http://localhost:8080/media/image21.jpeg": {
              "data": "",
              "ok": false,
              "headers": [
                [
                  "content-length",
                  "0"
                ]
              ],
              "status": 404,
              "status_text": ""
            },
            "http://localhost:8080/media/image17.jpeg": {
              "data": "",
              "ok": false,
              "headers": [
                [
                  "content-length",
                  "0"
                ]
              ],
              "status": 404,
              "status_text": ""
            },
            "http://localhost:8080/media/image16.jpeg": {
              "data": "",
              "ok": false,
              "headers": [
                [
                  "content-length",
                  "0"
                ]
              ],
              "status": 404,
              "status_text": ""
            },
            "http://localhost:8080/media/image18.jpeg": {
              "data": "",
              "ok": false,
              "headers": [
                [
                  "content-length",
                  "0"
                ]
              ],
              "status": 404,
              "status_text": ""
            },
            "http://localhost:8080/media/image12.jpeg": {
              "data": "",
              "ok": false,
              "headers": [
                [
                  "content-length",
                  "0"
                ]
              ],
              "status": 404,
              "status_text": ""
            },
            "http://localhost:8080/media/image23.jpeg": {
              "data": "",
              "ok": false,
              "headers": [
                [
                  "content-length",
                  "0"
                ]
              ],
              "status": 404,
              "status_text": ""
            }
          },
          "base_uri": "https://localhost:8080/",
          "height": 541
        },
        "id": "HmNGxt5moWIB",
        "outputId": "2da0cd99-7028-4727-91b3-83ee0d87be59"
      },
      "execution_count": 12,
      "outputs": [
        {
          "output_type": "display_data",
          "data": {
            "text/plain": [
              "<IPython.core.display.HTML object>"
            ],
            "text/html": [
              "\n",
              "<style>\n",
              "  .handwriting-gallery {\n",
              "    display: grid;\n",
              "    grid-template-columns: repeat(auto-fill, minmax(250px, 1fr));\n",
              "    gap: 15px;\n",
              "    padding: 20px;\n",
              "    background-color: #f9f9f9;\n",
              "    border-radius: 10px;\n",
              "    margin: 20px 0;\n",
              "  }\n",
              "  .gallery-item {\n",
              "    border-radius: 8px;\n",
              "    overflow: hidden;\n",
              "    box-shadow: 0 4px 8px rgba(0,0,0,0.1);\n",
              "    transition: transform 0.3s;\n",
              "    background: white;\n",
              "    position: relative;\n",
              "  }\n",
              "  .gallery-item:hover {\n",
              "    transform: translateY(-5px);\n",
              "    box-shadow: 0 6px 12px rgba(0,0,0,0.15);\n",
              "  }\n",
              "  .gallery-item img {\n",
              "    width: 100%;\n",
              "    height: 200px;\n",
              "    object-fit: contain;\n",
              "    background: white;\n",
              "    cursor: pointer;\n",
              "    border-bottom: 1px solid #eee;\n",
              "  }\n",
              "  .image-info {\n",
              "    padding: 10px;\n",
              "    font-family: Arial, sans-serif;\n",
              "    color: #555;\n",
              "    font-size: 14px;\n",
              "  }\n",
              "  .modal {\n",
              "    display: none;\n",
              "    position: fixed;\n",
              "    z-index: 1000;\n",
              "    left: 0;\n",
              "    top: 0;\n",
              "    width: 100%;\n",
              "    height: 100%;\n",
              "    background-color: rgba(0,0,0,0.9);\n",
              "    overflow: auto;\n",
              "  }\n",
              "  .modal-content {\n",
              "    margin: auto;\n",
              "    display: block;\n",
              "    max-width: 90%;\n",
              "    max-height: 90%;\n",
              "    position: absolute;\n",
              "    top: 50%;\n",
              "    left: 50%;\n",
              "    transform: translate(-50%, -50%);\n",
              "  }\n",
              "  .close {\n",
              "    position: absolute;\n",
              "    top: 20px;\n",
              "    right: 35px;\n",
              "    color: #f1f1f1;\n",
              "    font-size: 40px;\n",
              "    font-weight: bold;\n",
              "    transition: 0.3s;\n",
              "    cursor: pointer;\n",
              "  }\n",
              "  .close:hover {\n",
              "    color: #bbb;\n",
              "  }\n",
              "  .caption {\n",
              "    margin: auto;\n",
              "    display: block;\n",
              "    width: 80%;\n",
              "    max-width: 700px;\n",
              "    text-align: center;\n",
              "    color: #ccc;\n",
              "    padding: 10px 0;\n",
              "    font-family: Arial, sans-serif;\n",
              "  }\n",
              "</style>\n",
              "\n",
              "<div class=\"handwriting-gallery\" id=\"gallery-container\">\n",
              "  <!-- Images will be inserted here by JavaScript -->\n",
              "</div>\n",
              "\n",
              "<div id=\"image-modal\" class=\"modal\">\n",
              "  <span class=\"close\" onclick=\"closeModal()\">&times;</span>\n",
              "  <img class=\"modal-content\" id=\"modal-image\">\n",
              "  <div class=\"caption\" id=\"caption\"></div>\n",
              "</div>\n",
              "\n",
              "<script>\n",
              "// Image data - paths and alt text\n",
              "const imageData = [\n",
              "  {src: \"media/image1.jpeg\", alt: \"Assignments, notes in beautiful and clear hand writing\"},\n",
              "  {src: \"media/image2.jpeg\", alt: \"37 Beautiful Handwriting Examples\"},\n",
              "  {src: \"media/image3.jpeg\", alt: \"Handwriting example from r/Handwriting\"},\n",
              "  {src: \"media/image4.jpeg\", alt: \"Personal handwriting sample\"},\n",
              "  {src: \"media/image5.png\", alt: \"Handwriting improvement request\"},\n",
              "  {src: \"media/image6.jpeg\", alt: \"Filipino/Tagalog cursive handwriting\"},\n",
              "  {src: \"media/image7.jpeg\", alt: \"Handwriting update\"},\n",
              "  {src: \"media/image8.jpeg\", alt: \"Handwritten notes and letters\"},\n",
              "  {src: \"media/image9.jpeg\", alt: \"Clean handwriting example\"},\n",
              "  {src: \"media/image10.jpeg\", alt: \"Beautiful handwriting for assignments\"},\n",
              "  {src: \"media/image11.jpeg\", alt: \"Attractive handwriting sample\"},\n",
              "  {src: \"media/image12.jpeg\", alt: \"Beautiful cursive handwriting\"},\n",
              "  {src: \"media/image13.jpeg\", alt: \"Cursive and Urdu handwriting\"},\n",
              "  {src: \"media/image14.jpeg\", alt: \"Beautiful handwriting for notes\"},\n",
              "  {src: \"media/image15.jpeg\", alt: \"Handwriting for notes and cards\"},\n",
              "  {src: \"media/image16.jpeg\", alt: \"Typing handwritten notes\"},\n",
              "  {src: \"media/image17.jpeg\", alt: \"Handwriting notes and letters\"},\n",
              "  {src: \"media/image18.jpeg\", alt: \"Handwriting notes and letters\"},\n",
              "  {src: \"media/image19.jpeg\", alt: \"Good cursive handwriting\"},\n",
              "  {src: \"media/image20.jpeg\", alt: \"Calligraphy with normal gel pen\"},\n",
              "  {src: \"media/image21.jpeg\", alt: \"More quotes written\"},\n",
              "  {src: \"media/image22.jpeg\", alt: \"Dreams become reality handwriting\"},\n",
              "  {src: \"media/image23.jpeg\", alt: \"Friendship quotes in cursive\"}\n",
              "];\n",
              "\n",
              "// Create gallery items\n",
              "const gallery = document.getElementById('gallery-container');\n",
              "imageData.forEach((image, index) => {\n",
              "  const item = document.createElement('div');\n",
              "  item.className = 'gallery-item';\n",
              "  item.innerHTML = `\n",
              "    <img src=\"${image.src}\" alt=\"${image.alt}\" onclick=\"openModal(${index})\">\n",
              "    <div class=\"image-info\">${image.alt.substring(0, 50)}${image.alt.length > 50 ? '...' : ''}</div>\n",
              "  `;\n",
              "  gallery.appendChild(item);\n",
              "});\n",
              "\n",
              "// Modal functions\n",
              "let currentIndex = 0;\n",
              "function openModal(index) {\n",
              "  currentIndex = index;\n",
              "  const modal = document.getElementById('image-modal');\n",
              "  const modalImg = document.getElementById('modal-image');\n",
              "  const caption = document.getElementById('caption');\n",
              "  \n",
              "  modal.style.display = \"block\";\n",
              "  modalImg.src = imageData[index].src;\n",
              "  caption.innerHTML = imageData[index].alt;\n",
              "}\n",
              "\n",
              "function closeModal() {\n",
              "  document.getElementById('image-modal').style.display = \"none\";\n",
              "}\n",
              "\n",
              "// Keyboard navigation\n",
              "document.addEventListener('keydown', function(event) {\n",
              "  const modal = document.getElementById('image-modal');\n",
              "  if (modal.style.display === \"block\") {\n",
              "    if (event.key === 'Escape') {\n",
              "      closeModal();\n",
              "    } else if (event.key === 'ArrowLeft' && currentIndex > 0) {\n",
              "      openModal(currentIndex - 1);\n",
              "    } else if (event.key === 'ArrowRight' && currentIndex < imageData.length - 1) {\n",
              "      openModal(currentIndex + 1);\n",
              "    }\n",
              "  }\n",
              "});\n",
              "\n",
              "// Close when clicking outside image\n",
              "window.onclick = function(event) {\n",
              "  const modal = document.getElementById('image-modal');\n",
              "  if (event.target == modal) {\n",
              "    closeModal();\n",
              "  }\n",
              "}\n",
              "</script>\n"
            ]
          },
          "metadata": {}
        }
      ]
    }
  ]
}